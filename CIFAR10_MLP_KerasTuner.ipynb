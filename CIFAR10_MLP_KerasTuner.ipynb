{
  "cells": [
    {
      "cell_type": "markdown",
      "metadata": {
        "id": "view-in-github",
        "colab_type": "text"
      },
      "source": [
        "<a href=\"https://colab.research.google.com/github/JesperHLund/ML_mini_project/blob/main/CIFAR10_MLP_KerasTuner.ipynb\" target=\"_parent\"><img src=\"https://colab.research.google.com/assets/colab-badge.svg\" alt=\"Open In Colab\"/></a>"
      ]
    },
    {
      "cell_type": "markdown",
      "metadata": {
        "id": "iL4-yMqhcQrP"
      },
      "source": [
        "**MLP classifier trained on the Fashion MNIST dataset and tuned using KerasTuner**"
      ]
    },
    {
      "cell_type": "markdown",
      "metadata": {
        "id": "Wz-1yf0icQrT"
      },
      "source": [
        "# Image classification using the Fashion MNIST dataset\n",
        "We will train and evaluate an MLP on the Fashion MNIST dataset. It consists of 70.000 grayscale images of 28x28 pixels each, and there are 10 classes.\n",
        "We will use KerasTuner for hyperparameter Tuning."
      ]
    },
    {
      "cell_type": "markdown",
      "metadata": {
        "id": "qf6NBMrrcQrU"
      },
      "source": [
        "## Setup"
      ]
    },
    {
      "cell_type": "code",
      "execution_count": null,
      "metadata": {
        "id": "hfQILlxPcQrV"
      },
      "outputs": [],
      "source": [
        "# Common imports\n",
        "import sys\n",
        "import os\n",
        "import tensorflow as tf\n",
        "from tensorflow import keras\n",
        "\n",
        "# to make this notebook's output stable across runs\n",
        "tf.random.set_seed(42)\n",
        "\n",
        "# To plot figures\n",
        "%matplotlib inline\n",
        "import matplotlib.pyplot as plt"
      ]
    },
    {
      "cell_type": "markdown",
      "metadata": {
        "id": "H0SCrp_fcQrY"
      },
      "source": [
        "## Load the data"
      ]
    },
    {
      "cell_type": "code",
      "execution_count": null,
      "metadata": {
        "id": "-_3AgO3acQrZ"
      },
      "outputs": [],
      "source": [
        "data = tf.keras.datasets.cifar10\n",
        "(X_train_full, y_train_full), (X_test, y_test) = data.load_data()\n"
      ]
    },
    {
      "cell_type": "code",
      "execution_count": null,
      "metadata": {
        "colab": {
          "base_uri": "https://localhost:8080/"
        },
        "id": "oqXZ36zNcQra",
        "outputId": "91f51ccf-b0f6-4ca4-a698-dd61f0f0305f"
      },
      "outputs": [
        {
          "output_type": "execute_result",
          "data": {
            "text/plain": [
              "(50000, 32, 32, 3)"
            ]
          },
          "metadata": {},
          "execution_count": 3
        }
      ],
      "source": [
        "# Show the size and dimension of the dataset.\n",
        "X_train_full.shape"
      ]
    },
    {
      "cell_type": "code",
      "execution_count": null,
      "metadata": {
        "colab": {
          "base_uri": "https://localhost:8080/"
        },
        "id": "_slqMkiecQrb",
        "outputId": "d250c30c-0745-47fc-d6a1-1e63ede4febc"
      },
      "outputs": [
        {
          "output_type": "execute_result",
          "data": {
            "text/plain": [
              "dtype('uint8')"
            ]
          },
          "metadata": {},
          "execution_count": 4
        }
      ],
      "source": [
        "# Each pixel intensity is represented as a byte (0 to 255).\n",
        "X_train_full.dtype"
      ]
    },
    {
      "cell_type": "code",
      "execution_count": null,
      "metadata": {
        "id": "2ClalT4_cQrc"
      },
      "outputs": [],
      "source": [
        "# Split the full training set into a validation set and a training set,\n",
        "# and scale the pixel intensities down to the 0-1 range and convert them to floats, by dividing by 255.\n",
        "X_valid, X_train = X_train_full[:5000] / 255., X_train_full[5000:] / 255.\n",
        "y_valid, y_train = y_train_full[:5000], y_train_full[5000:]\n",
        "X_test = X_test / 255."
      ]
    },
    {
      "cell_type": "markdown",
      "metadata": {
        "id": "cGMwpTBtcQrd"
      },
      "source": [
        "## Hyperparameter tuning with KerasTuner"
      ]
    },
    {
      "cell_type": "code",
      "execution_count": null,
      "metadata": {
        "id": "bIpUNkficQre"
      },
      "outputs": [],
      "source": [
        "# Installing KerasTuner\n",
        "if \"google.colab\" in sys.modules:\n",
        "    %pip install -q -U keras_tuner"
      ]
    },
    {
      "cell_type": "code",
      "execution_count": null,
      "metadata": {
        "colab": {
          "base_uri": "https://localhost:8080/"
        },
        "id": "9KXnNz4FcQre",
        "outputId": "92bdfad7-7c91-45f8-f1c3-9a4d95b5764a"
      },
      "outputs": [
        {
          "output_type": "stream",
          "name": "stdout",
          "text": [
            "Using TensorFlow backend\n"
          ]
        }
      ],
      "source": [
        "# Create a function that builds, compiles and returns a Keras model.\n",
        "import keras_tuner as kt\n",
        "\n",
        "def build_model(hp):\n",
        "    n_hidden = hp.Int(\"n_hidden\", min_value=0, max_value=8, default=2)\n",
        "    n_neurons = hp.Int(\"n_neurons\", min_value=16, max_value=256)\n",
        "    learning_rate = hp.Float(\"learning_rate\", min_value=1e-4, max_value=1e-2,\n",
        "                             sampling=\"log\")\n",
        "    optimizer = tf.keras.optimizers.SGD(learning_rate=learning_rate, momentum=0.9)\n",
        "    model = tf.keras.Sequential()\n",
        "    model.add(tf.keras.layers.Flatten())\n",
        "    for _ in range(n_hidden):\n",
        "        model.add(tf.keras.layers.Dense(n_neurons, activation=\"relu\"))\n",
        "    model.add(tf.keras.layers.Dense(10, activation=\"softmax\"))\n",
        "    model.compile(loss=\"sparse_categorical_crossentropy\", optimizer=optimizer,\n",
        "                  metrics=[\"accuracy\"])\n",
        "    return model"
      ]
    },
    {
      "cell_type": "code",
      "execution_count": null,
      "metadata": {
        "colab": {
          "base_uri": "https://localhost:8080/"
        },
        "id": "qWzDpIgtcQrf",
        "outputId": "542a2c23-9973-4227-9fd3-93931a2bec71"
      },
      "outputs": [
        {
          "output_type": "stream",
          "name": "stdout",
          "text": [
            "Trial 10 Complete [00h 15m 27s]\n",
            "val_accuracy: 0.5564000010490417\n",
            "\n",
            "Best val_accuracy So Far: 0.5605999827384949\n",
            "Total elapsed time: 01h 44m 31s\n"
          ]
        }
      ],
      "source": [
        "# EarlyStopping with rollback to the best model.\n",
        "early_stopping = keras.callbacks.EarlyStopping(patience=10, restore_best_weights=True)\n",
        "\n",
        "# Performance scheduling, multiply the learning rate by a factor when the error stops dropping\n",
        "lr_scheduler = keras.callbacks.ReduceLROnPlateau(factor=0.5, patience=4)\n",
        "\n",
        "# Use KerasTuner RandomSearch to tune hyperparameters\n",
        "random_search_tuner = kt.RandomSearch(\n",
        "    build_model, objective=\"val_accuracy\", max_trials=10, overwrite=True,\n",
        "    directory=\"my_mnist\", project_name=\"my_rnd_search\", seed=42)\n",
        "random_search_tuner.search(X_train, y_train, epochs=100,\n",
        "                           validation_data=(X_valid, y_valid), callbacks=[lr_scheduler, early_stopping])"
      ]
    },
    {
      "cell_type": "code",
      "execution_count": null,
      "metadata": {
        "colab": {
          "base_uri": "https://localhost:8080/"
        },
        "id": "UHk8gmQYcQrg",
        "outputId": "218213b3-9159-4f09-8644-4bf670e51cb1"
      },
      "outputs": [
        {
          "output_type": "stream",
          "name": "stdout",
          "text": [
            "Trial 03 summary\n",
            "Hyperparameters:\n",
            "n_hidden: 2\n",
            "n_neurons: 251\n",
            "learning_rate: 0.001715074355925934\n",
            "Score: 0.5605999827384949\n"
          ]
        }
      ],
      "source": [
        "# Display a summary of the best model:\n",
        "best_trial = random_search_tuner.oracle.get_best_trials(num_trials=1)[0]\n",
        "best_trial.summary()"
      ]
    },
    {
      "cell_type": "code",
      "execution_count": null,
      "metadata": {
        "colab": {
          "base_uri": "https://localhost:8080/"
        },
        "id": "RhI9qmPvcQrg",
        "outputId": "379d8295-86f7-42b7-9450-6f1058ec1327"
      },
      "outputs": [
        {
          "output_type": "execute_result",
          "data": {
            "text/plain": [
              "0.5605999827384949"
            ]
          },
          "metadata": {},
          "execution_count": 10
        }
      ],
      "source": [
        "# Display the best model's accuracy measured on the validation set:\n",
        "best_trial.metrics.get_last_value(\"val_accuracy\")"
      ]
    },
    {
      "cell_type": "code",
      "execution_count": null,
      "metadata": {
        "colab": {
          "base_uri": "https://localhost:8080/"
        },
        "id": "jgGUlq7lcQrh",
        "outputId": "2bf694d8-dfd6-4258-f22d-ae82fb1dafc6"
      },
      "outputs": [
        {
          "output_type": "stream",
          "name": "stdout",
          "text": [
            "313/313 [==============================] - 2s 6ms/step - loss: 1.3175 - accuracy: 0.5507\n"
          ]
        }
      ],
      "source": [
        "# Evaluate the model's accuracy on the test set:\n",
        "best_model = random_search_tuner.get_best_models(num_models=1)[0]\n",
        "test_loss, test_accuracy = best_model.evaluate(X_test, y_test)"
      ]
    }
  ],
  "metadata": {
    "kernelspec": {
      "display_name": "Python 3 (ipykernel)",
      "language": "python",
      "name": "python3"
    },
    "language_info": {
      "codemirror_mode": {
        "name": "ipython",
        "version": 3
      },
      "file_extension": ".py",
      "mimetype": "text/x-python",
      "name": "python",
      "nbconvert_exporter": "python",
      "pygments_lexer": "ipython3",
      "version": "3.9.15"
    },
    "nav_menu": {
      "height": "264px",
      "width": "369px"
    },
    "toc": {
      "navigate_menu": true,
      "number_sections": true,
      "sideBar": true,
      "threshold": 6,
      "toc_cell": false,
      "toc_section_display": "block",
      "toc_window_display": false
    },
    "colab": {
      "provenance": [],
      "include_colab_link": true
    }
  },
  "nbformat": 4,
  "nbformat_minor": 0
}